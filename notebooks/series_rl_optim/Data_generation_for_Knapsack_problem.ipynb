{
  "nbformat": 4,
  "nbformat_minor": 0,
  "metadata": {
    "colab": {
      "name": "Data generation for Knapsack problem.ipynb",
      "provenance": [],
      "collapsed_sections": []
    },
    "kernelspec": {
      "name": "python3",
      "display_name": "Python 3"
    },
    "language_info": {
      "name": "python"
    }
  },
  "cells": [
    {
      "cell_type": "code",
      "execution_count": 1,
      "metadata": {
        "id": "VRrb7b3u4Fvo"
      },
      "outputs": [],
      "source": [
        "import pandas as pd\n",
        "import numpy as np\n",
        "import pickle"
      ]
    },
    {
      "cell_type": "code",
      "source": [
        "def data_generator_knapsack(number_bags, number_items, minimum_weight_item, maximum_weight_item, minimum_value_item, maximum_value_item, max_weight_bag):\n",
        "    data = {}\n",
        "    weights = np.random.randint(minimum_weight_item, maximum_weight_item, size = number_items)\n",
        "    values = np.random.randint(minimum_value_item, maximum_value_item, size = number_items)\n",
        "    data['weights'] = weights\n",
        "    data['values'] = values\n",
        "    data['items'] = list(range(len(weights)))\n",
        "    data['num_items'] = len(weights)\n",
        "    data['bins'] = list(range(number_bags))\n",
        "    data['bin_capacities'] = np.random.randint(0, max_weight_bag, size = number_bags) + np.int(np.mean(data['weights']))\n",
        "    return(data)"
      ],
      "metadata": {
        "id": "80zOVnSY4JT6"
      },
      "execution_count": 2,
      "outputs": []
    },
    {
      "cell_type": "code",
      "source": [
        "number_bags = 2\n",
        "number_items = 4\n",
        "minimum_weight_item = 0\n",
        "maximum_weight_item = 75\n",
        "minimum_value_item = 0\n",
        "maximum_value_item = 75\n",
        "max_weight_bag = 150"
      ],
      "metadata": {
        "id": "dS0SMAcH4KWS"
      },
      "execution_count": 3,
      "outputs": []
    },
    {
      "cell_type": "code",
      "source": [
        "data = data_generator_knapsack(number_bags, number_items, minimum_weight_item, maximum_weight_item, minimum_value_item, maximum_value_item, max_weight_bag)"
      ],
      "metadata": {
        "colab": {
          "base_uri": "https://localhost:8080/"
        },
        "id": "2ZNdlTP_4LPT",
        "outputId": "11028289-6de4-42aa-ffae-bb9832d31c1f"
      },
      "execution_count": 4,
      "outputs": [
        {
          "output_type": "stream",
          "name": "stderr",
          "text": [
            "/usr/local/lib/python3.7/dist-packages/ipykernel_launcher.py:10: DeprecationWarning: `np.int` is a deprecated alias for the builtin `int`. To silence this warning, use `int` by itself. Doing this will not modify any behavior and is safe. When replacing `np.int`, you may wish to use e.g. `np.int64` or `np.int32` to specify the precision. If you wish to review your current use, check the release note link for additional information.\n",
            "Deprecated in NumPy 1.20; for more details and guidance: https://numpy.org/devdocs/release/1.20.0-notes.html#deprecations\n",
            "  # Remove the CWD from sys.path while we load stuff.\n"
          ]
        }
      ]
    },
    {
      "cell_type": "code",
      "source": [
        "data"
      ],
      "metadata": {
        "colab": {
          "base_uri": "https://localhost:8080/"
        },
        "id": "Vhj4ec9L4MQd",
        "outputId": "b2fcc17d-34c8-442e-f8ed-080fca2bf241"
      },
      "execution_count": 5,
      "outputs": [
        {
          "output_type": "execute_result",
          "data": {
            "text/plain": [
              "{'bin_capacities': array([ 61, 124]),\n",
              " 'bins': [0, 1],\n",
              " 'items': [0, 1, 2, 3],\n",
              " 'num_items': 4,\n",
              " 'values': array([41,  4, 52,  4]),\n",
              " 'weights': array([26, 27, 65, 42])}"
            ]
          },
          "metadata": {},
          "execution_count": 5
        }
      ]
    },
    {
      "cell_type": "code",
      "source": [
        "f = open('./data_for_knapsack_{}_knapsacks___{}_items.pkl'.format(number_bags, number_items),\"wb\")\n",
        "pickle.dump(data,f)\n",
        "f.close()\n"
      ],
      "metadata": {
        "id": "0mBlf6AF4NeG"
      },
      "execution_count": null,
      "outputs": []
    },
    {
      "cell_type": "code",
      "source": [
        ""
      ],
      "metadata": {
        "id": "nwtQbp6m4PZg"
      },
      "execution_count": null,
      "outputs": []
    }
  ]
}