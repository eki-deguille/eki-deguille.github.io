{
  "nbformat": 4,
  "nbformat_minor": 0,
  "metadata": {
    "colab": {
      "name": "MILP Solver.ipynb",
      "provenance": [],
      "collapsed_sections": []
    },
    "kernelspec": {
      "name": "python3",
      "display_name": "Python 3"
    },
    "language_info": {
      "name": "python"
    }
  },
  "cells": [
    {
      "cell_type": "code",
      "source": [
        "!pip install mip"
      ],
      "metadata": {
        "colab": {
          "base_uri": "https://localhost:8080/"
        },
        "id": "Chk8B9qT7_Uw",
        "outputId": "04eba959-bef1-448a-e5ba-4f46df4911c9"
      },
      "execution_count": 28,
      "outputs": [
        {
          "output_type": "stream",
          "name": "stdout",
          "text": [
            "Looking in indexes: https://pypi.org/simple, https://us-python.pkg.dev/colab-wheels/public/simple/\n",
            "Requirement already satisfied: mip in /usr/local/lib/python3.7/dist-packages (1.14.0)\n",
            "Requirement already satisfied: cffi in /usr/local/lib/python3.7/dist-packages (from mip) (1.15.0)\n",
            "Requirement already satisfied: pycparser in /usr/local/lib/python3.7/dist-packages (from cffi->mip) (2.21)\n"
          ]
        }
      ]
    },
    {
      "cell_type": "code",
      "execution_count": 29,
      "metadata": {
        "id": "g3ulB4EP4U4v"
      },
      "outputs": [],
      "source": [
        "n_knapsacks=2\n",
        "n_items=4\n",
        "\n",
        "env_name = \"Knapsack\"\n",
        "\n",
        "import pandas as pd\n",
        "from mip import Model, xsum, maximize, BINARY"
      ]
    },
    {
      "cell_type": "code",
      "source": [
        "data = pd.read_pickle('./data_for_knapsack_{}_knapsacks___{}_items.pkl'.format(n_knapsacks, n_items))"
      ],
      "metadata": {
        "id": "JLHSnPnC4WjQ"
      },
      "execution_count": 30,
      "outputs": []
    },
    {
      "cell_type": "code",
      "source": [
        "def mip_solve_knapsack(data):\n",
        "  model = Model(\"knapsack\")\n",
        "\n",
        "  x = [[model.add_var(var_type=BINARY) for i in data['items']] for j in data['bins']]\n",
        "\n",
        "  model.objective = maximize(xsum((xsum(data['values'][i] * x[j][i] for i in data['items']) for j in data['bins'])))\n",
        "\n",
        "  for j in data['bins']:\n",
        "      model += xsum(data['weights'][i] * x[j][i] for i in data['items']) <= data['bin_capacities'][j]\n",
        "\n",
        "  # Each item can be in at most one bin\n",
        "  for i in data['items']:\n",
        "      model += xsum(x[j][i] for j in data['bins']) <= 1\n",
        "\n",
        "  model.optimize()\n",
        "  return(model)"
      ],
      "metadata": {
        "id": "ofUNTD8t4ZQV"
      },
      "execution_count": 31,
      "outputs": []
    },
    {
      "cell_type": "code",
      "source": [
        "def print_mip_solution_knapsack(model):\n",
        "  print('Maximum value obtained: ', model.objective_value)\n",
        "  print('Below is given the list of items choose for each bag')\n",
        "  for j in data['bins']:\n",
        "      for i in data['items']:\n",
        "          if x[j][i].x >= 0.99:\n",
        "              print(\"Bag number: \", j, ', item number:', i)\n",
        "              print(x[j][i].x)\n",
        "  return()"
      ],
      "metadata": {
        "id": "z_O5QwCW4Z_Z"
      },
      "execution_count": 32,
      "outputs": []
    },
    {
      "cell_type": "code",
      "source": [
        "n_knapsacks=2\n",
        "n_items=4\n",
        "\n",
        "data = pd.read_pickle('./data_for_knapsack_{}_knapsacks___{}_items.pkl'.format(n_knapsacks, n_items))\n",
        "model = mip_solve_knapsack(data)\n",
        "print_mip_solution_knapsack(model)"
      ],
      "metadata": {
        "colab": {
          "base_uri": "https://localhost:8080/"
        },
        "id": "y_9b6rpy4i0E",
        "outputId": "e28e0f43-c78b-447d-880d-554d0a591fdd"
      },
      "execution_count": 33,
      "outputs": [
        {
          "output_type": "stream",
          "name": "stdout",
          "text": [
            "Maximum value obtained:  101.0\n",
            "Below is given the list of items choose for each bag\n",
            "Bag number:  0 , item number: 0\n",
            "1.0\n",
            "Bag number:  0 , item number: 1\n",
            "1.0\n",
            "Bag number:  1 , item number: 2\n",
            "1.0\n",
            "Bag number:  1 , item number: 3\n",
            "1.0\n"
          ]
        },
        {
          "output_type": "execute_result",
          "data": {
            "text/plain": [
              "()"
            ]
          },
          "metadata": {},
          "execution_count": 33
        }
      ]
    },
    {
      "cell_type": "code",
      "source": [
        "print('Maximum value obtained: ', model.objective_value)"
      ],
      "metadata": {
        "colab": {
          "base_uri": "https://localhost:8080/"
        },
        "id": "lMem_Nex4boB",
        "outputId": "6bd93ee5-583f-480f-e40d-1dc17357a8f5"
      },
      "execution_count": 34,
      "outputs": [
        {
          "output_type": "stream",
          "name": "stdout",
          "text": [
            "Maximum value obtained:  101.0\n"
          ]
        }
      ]
    },
    {
      "cell_type": "code",
      "source": [
        ""
      ],
      "metadata": {
        "id": "I03Kagq54jHQ"
      },
      "execution_count": null,
      "outputs": []
    }
  ]
}